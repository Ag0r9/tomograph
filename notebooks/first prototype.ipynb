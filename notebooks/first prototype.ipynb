{
 "cells": [
  {
   "cell_type": "markdown",
   "source": [
    "# Preparing"
   ],
   "metadata": {
    "collapsed": false
   }
  },
  {
   "cell_type": "markdown",
   "source": [
    "## Packages"
   ],
   "metadata": {
    "collapsed": false
   }
  },
  {
   "cell_type": "code",
   "execution_count": 1,
   "metadata": {
    "collapsed": true
   },
   "outputs": [],
   "source": [
    "import numpy as np\n",
    "from PIL import Image, ImageOps\n",
    "import matplotlib.pyplot as plt\n",
    "from skimage.transform import radon\n",
    "from math import radians"
   ]
  },
  {
   "cell_type": "markdown",
   "source": [
    "## Utils\n"
   ],
   "metadata": {
    "collapsed": false
   }
  },
  {
   "cell_type": "code",
   "execution_count": 17,
   "outputs": [],
   "source": [
    "def center_pad(array, shape, *args, **kwargs):\n",
    "    pad = (np.array(shape) - np.array(array.shape)) / 2\n",
    "    pad = np.array([np.floor(pad), np.ceil(pad)]).T.astype(int)\n",
    "    return np.pad(array, pad, *args, **kwargs)\n",
    "\n",
    "def circle_pad(array, *args, **kwargs):\n",
    "    w, h = array.shape\n",
    "    side = int(np.ceil(np.sqrt(w**2 + h**2)))\n",
    "    return center_pad(array, (side, side), *args, **kwargs)\n",
    "\n",
    "def rescale(array, min=0, max=1):\n",
    "    res = array.astype('float32')\n",
    "    res -= np.min(res)\n",
    "    res /= np.max(res)\n",
    "    res -= min\n",
    "    res *= max\n",
    "    return res\n",
    "\n",
    "def get_coordinates(angle, bandwidth, no_of_detectors, center, radius):\n",
    "    angles = np.linspace(0, bandwidth, no_of_detectors) + angle\n",
    "    coordinates = np.array(list(zip(radius * np.cos(angles) - center[0], radius * np.sin(angles) - center[1])))\n",
    "    return np.floor(coordinates).astype(int)\n",
    "\n",
    "def bresenham_algorithm(x0, y0, x1, y1):\n",
    "    if abs(y1 - y0) > abs(x1 - x0):\n",
    "        swapped = True\n",
    "        x0, y0, x1, y1 = y0, x0, y1, x1\n",
    "    else:\n",
    "        swapped = False\n",
    "    m = (y1 - y0) / (x1 - x0) if x1 - x0 != 0 else +1\n",
    "    q = y0 - m * x0\n",
    "    if x0 < x1:\n",
    "        xs = np.arange(np.floor(x0), np.ceil(x1) + 1, +1, dtype=int)\n",
    "    else:\n",
    "        xs = np.arange(np.ceil(x0), np.floor(x1) - 1, -1, dtype=int)\n",
    "    ys = np.round(m * xs + q).astype(int)\n",
    "\n",
    "    if swapped:\n",
    "        xs, ys = ys, xs\n",
    "    return xs, ys\n",
    "\n",
    "def get_lines(detectors, emitters):\n",
    "    return [np.array(bresenham_algorithm(x0, y0, x1, y1)) for (x0, y0), (x1, y1) in zip(emitters, detectors)]\n",
    "\n",
    "def get_detectors_and_emitters(state, bandwidth, no_of_detectors, center, radius):\n",
    "    return get_coordinates(radians(state-bandwidth/2), radians(bandwidth), no_of_detectors, center, radius), get_coordinates(radians(state-bandwidth/2 + 180), radians(bandwidth), no_of_detectors, center, radius)[::-1]\n",
    "\n",
    "def one_radon_transform(state, image, no_of_detectors, center, radius, bandwidth):\n",
    "    detectors, emitters = get_detectors_and_emitters(state, bandwidth, no_of_detectors, center, radius)\n",
    "    lines = get_lines(detectors, emitters)\n",
    "    return rescale(np.array([np.sum(image[tuple(line)]) for line in lines]))\n",
    "\n",
    "def radon_transform(image: np.ndarray, angle_step: float, no_of_detectors: int, bandwidth: float, start: float=0, stop: float=180):\n",
    "    states = np.linspace(start, stop, int((stop-start)/angle_step))\n",
    "    results = np.empty((200, no_of_detectors))\n",
    "    center = np.floor(np.array(image.shape) / 2).astype(int)\n",
    "    radius = min(image.shape)/2\n",
    "    for i, state in enumerate(states):\n",
    "        results[i] = one_radon_transform(state, image, no_of_detectors, center, radius, bandwidth)\n",
    "    return results\n"
   ],
   "metadata": {
    "collapsed": false,
    "pycharm": {
     "name": "#%%\n"
    }
   }
  },
  {
   "cell_type": "code",
   "execution_count": 12,
   "outputs": [],
   "source": [
    "# theta = np.linspace(0, 180, 200)\n",
    "# img = Image.open('../data/jpgs/Shepp_logan.jpg').convert('L')\n",
    "# img = rescale(np.array(img), scale=0.4, mode='reflect', channel_axis=None)\n",
    "# test = radon(image=np.array(img), theta=theta)\n",
    "# plt.imshow(test, cmap='gray')"
   ],
   "metadata": {
    "collapsed": false,
    "pycharm": {
     "name": "#%%\n"
    }
   }
  },
  {
   "cell_type": "markdown",
   "source": [
    "## Load data"
   ],
   "metadata": {
    "collapsed": false
   }
  },
  {
   "cell_type": "code",
   "execution_count": 13,
   "outputs": [],
   "source": [
    "img = Image.open('../data/jpgs/Shepp_logan.jpg').convert('L')"
   ],
   "metadata": {
    "collapsed": false,
    "pycharm": {
     "name": "#%%\n"
    }
   }
  },
  {
   "cell_type": "code",
   "execution_count": 14,
   "outputs": [
    {
     "data": {
      "text/plain": "(1024, 1024)"
     },
     "execution_count": 14,
     "metadata": {},
     "output_type": "execute_result"
    }
   ],
   "source": [
    "np.array(img).shape"
   ],
   "metadata": {
    "collapsed": false,
    "pycharm": {
     "name": "#%%\n"
    }
   }
  },
  {
   "cell_type": "code",
   "execution_count": 18,
   "outputs": [
    {
     "data": {
      "text/plain": "<PIL.Image.Image image mode=L size=120x200 at 0x1FDE33CACD0>",
      "image/png": "[encoded data removed]"
     },
     "execution_count": 18,
     "metadata": {},
     "output_type": "execute_result"
    }
   ],
   "source": [
    "test = radon_transform(image=np.array(img), angle_step=1, no_of_detectors=120, bandwidth=90) # angle_step=1-4, no_of_detectors=60-120, bandwidth=90-150\n",
    "test_img = Image.fromarray(test, 'L')\n",
    "test_img"
   ],
   "metadata": {
    "collapsed": false,
    "pycharm": {
     "name": "#%%\n"
    }
   }
  },
  {
   "cell_type": "code",
   "execution_count": 6,
   "outputs": [],
   "source": [],
   "metadata": {
    "collapsed": false,
    "pycharm": {
     "name": "#%%\n"
    }
   }
  }
 ],
 "metadata": {
  "kernelspec": {
   "display_name": "Python 3",
   "language": "python",
   "name": "python3"
  },
  "language_info": {
   "codemirror_mode": {
    "name": "ipython",
    "version": 2
   },
   "file_extension": ".py",
   "mimetype": "text/x-python",
   "name": "python",
   "nbconvert_exporter": "python",
   "pygments_lexer": "ipython2",
   "version": "2.7.6"
  }
 },
 "nbformat": 4,
 "nbformat_minor": 0
}